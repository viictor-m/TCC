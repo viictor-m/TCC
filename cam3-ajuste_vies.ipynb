{
 "cells": [
  {
   "cell_type": "code",
   "execution_count": 1,
   "metadata": {},
   "outputs": [],
   "source": [
    "import xarray as xr\n",
    "import geopandas as gpd\n",
    "import warnings\n",
    "warnings.filterwarnings(\"ignore\") #ignora runtime warning por causa de nan na hora da correlacao\n",
    "\n",
    "from skill import recorte\n",
    "from skill import clima\n",
    "from skill import config"
   ]
  },
  {
   "cell_type": "markdown",
   "metadata": {},
   "source": [
    "# Configurando diretorios"
   ]
  },
  {
   "cell_type": "code",
   "execution_count": 2,
   "metadata": {},
   "outputs": [],
   "source": [
    "dir_dados = config.dir_dados\n",
    "dir_shp = config.dir_shp"
   ]
  },
  {
   "cell_type": "markdown",
   "metadata": {},
   "source": [
    "# Abrindo arquivos"
   ]
  },
  {
   "cell_type": "code",
   "execution_count": 3,
   "metadata": {},
   "outputs": [],
   "source": [
    "gpcc = xr.open_dataset(f'{dir_dados}/precip.comb.v2020to2019-v2020monitorafter.total.nc')\n",
    "br_madeira = gpd.read_file(f'{dir_shp}/brasil_madeira.shp')\n",
    "\n",
    "clima_cam = xr.open_dataset(f'{dir_dados}/cam3_clima.nc')   \n",
    "clima_cam['chuva'] = (clima_cam.PRECC + clima_cam.PRECSH + clima_cam.PRECL)*3600*24*30*1000 #cria chuva total com as variaveis do dataset"
   ]
  },
  {
   "cell_type": "markdown",
   "metadata": {},
   "source": [
    "## Abrindo arquivo de previsão p/ utilizar lat e lon p/ interpolacao da climatologia e do observado"
   ]
  },
  {
   "cell_type": "markdown",
   "metadata": {},
   "source": [
    "A climatologia tem mesma resolução que as previsões do CAM. Entretanto, os pontos de grade não são os mesmos. Isso acaba causando problemas na hora de calcular a anomalia, já que a indexação é feita pelo conjunto lat lon."
   ]
  },
  {
   "cell_type": "code",
   "execution_count": 4,
   "metadata": {},
   "outputs": [],
   "source": [
    "aux = xr.open_dataset(f'{dir_dados}/cam3_init1.nc')\n",
    "\n",
    "lat = aux.lat.values\n",
    "lon = aux.lon.values"
   ]
  },
  {
   "cell_type": "code",
   "execution_count": 5,
   "metadata": {},
   "outputs": [],
   "source": [
    "clima_cam = recorte.regridder(clima_cam, lat, lon)\n",
    "clima_cam_br = recorte.recortar(clima_cam, br_madeira)"
   ]
  },
  {
   "cell_type": "markdown",
   "metadata": {},
   "source": [
    "# Trabalhando com observado"
   ]
  },
  {
   "cell_type": "code",
   "execution_count": 6,
   "metadata": {
    "tags": []
   },
   "outputs": [],
   "source": [
    "clima_obs = clima.climatologia(gpcc, '1979-01-01', '1999-12-01')"
   ]
  },
  {
   "cell_type": "markdown",
   "metadata": {},
   "source": [
    "## Interpola para a grade do cam"
   ]
  },
  {
   "cell_type": "code",
   "execution_count": 7,
   "metadata": {},
   "outputs": [],
   "source": [
    "clima_obs_interp = recorte.regridder(clima_obs, lat, lon)\n",
    "clima_obs_br = recorte.recortar(clima_obs_interp, br_madeira)"
   ]
  },
  {
   "cell_type": "markdown",
   "metadata": {},
   "source": [
    "# Ajuste de Escala das climatologias"
   ]
  },
  {
   "cell_type": "code",
   "execution_count": 8,
   "metadata": {},
   "outputs": [],
   "source": [
    "month_coef = clima_obs_br.precip / clima_cam_br.chuva.groupby('time.month').mean('time')"
   ]
  },
  {
   "cell_type": "markdown",
   "metadata": {},
   "source": [
    "# Fazendo ponderação"
   ]
  },
  {
   "cell_type": "code",
   "execution_count": 10,
   "metadata": {},
   "outputs": [],
   "source": [
    "dir_dados.joinpath('cam3_ajuste').mkdir(exist_ok=True)\n",
    "dir_dados.joinpath('cam3_ajuste', 'com_skill').mkdir(exist_ok=True)\n",
    "dir_dados.joinpath('cam3_ajuste', 'sem_skill').mkdir(exist_ok=True)"
   ]
  },
  {
   "cell_type": "markdown",
   "metadata": {},
   "source": [
    "## Utilizando ponderação pelo skill"
   ]
  },
  {
   "cell_type": "code",
   "execution_count": 11,
   "metadata": {
    "tags": []
   },
   "outputs": [],
   "source": [
    "for i in range(1,13):\n",
    "\n",
    "    cam = xr.open_dataset(f'{dir_dados}/cam3_init{i}.nc')\n",
    "    skill = xr.open_dataset(f'{dir_dados}/cam3-anom_corr-init{i}.nc').__xarray_dataarray_variable__\n",
    "    skill = skill.where(skill>0, 0)\n",
    "\n",
    "    cam['chuva'] = (cam.PRECC + cam.PRECSH + cam.PRECL)*3600*24*30*1000\n",
    "    cam_br = recorte.recortar(cam.chuva, br_madeira)\n",
    "\n",
    "    cam_br = cam_br.assign_coords(month=cam_br.time.dt.month)\n",
    "\n",
    "    prec_ajuste = cam_br * month_coef\n",
    "    prec_final = (prec_ajuste * skill) + ((1-skill) * clima_obs_br.precip)\n",
    "\n",
    "    prec_final.to_netcdf(dir_dados.joinpath('cam3_ajuste', 'com_skill', f'cam3_ajuste_{i}.nc'))"
   ]
  },
  {
   "cell_type": "code",
   "execution_count": 12,
   "metadata": {},
   "outputs": [],
   "source": [
    "for i in range(1,13):\n",
    "    \n",
    "    cam = xr.open_dataset(f'{dir_dados}/cam3_init{i}.nc')\n",
    "\n",
    "    cam['chuva'] = (cam.PRECC + cam.PRECSH + cam.PRECL)*3600*24*30*1000\n",
    "    cam_br = recorte.recortar(cam.chuva, br_madeira)\n",
    "\n",
    "    cam_br = cam_br.assign_coords(month=cam_br.time.dt.month)\n",
    "\n",
    "    prec_ajuste = cam_br * month_coef\n",
    "\n",
    "    prec_ajuste.to_netcdf(dir_dados.joinpath('cam3_ajuste', 'sem_skill', f'cam3_ajuste_{i}.nc'))"
   ]
  }
 ],
 "metadata": {
  "interpreter": {
   "hash": "c5ea08b82301901574ade269f2f41474e9ff34669df2c92daccd639cf6dc8704"
  },
  "kernelspec": {
   "display_name": "tcc",
   "language": "python",
   "name": "python3"
  },
  "language_info": {
   "codemirror_mode": {
    "name": "ipython",
    "version": 3
   },
   "file_extension": ".py",
   "mimetype": "text/x-python",
   "name": "python",
   "nbconvert_exporter": "python",
   "pygments_lexer": "ipython3",
   "version": "3.9.7"
  },
  "toc-autonumbering": true,
  "toc-showcode": false,
  "toc-showmarkdowntxt": true
 },
 "nbformat": 4,
 "nbformat_minor": 4
}
