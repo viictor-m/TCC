{
 "cells": [
  {
   "cell_type": "code",
   "execution_count": 1,
   "metadata": {},
   "outputs": [],
   "source": [
    "import xarray as xr\n",
    "import cartopy.crs as ccrs\n",
    "import matplotlib.pyplot as plt\n",
    "import numpy as np\n",
    "import pendulum\n",
    "from dateutil.relativedelta import relativedelta\n",
    "\n",
    "from skill import config\n",
    "from skill import plot"
   ]
  },
  {
   "cell_type": "code",
   "execution_count": 2,
   "metadata": {},
   "outputs": [],
   "source": [
    "dir_dados = config.dir_dados\n",
    "dir_img = config.dir_img"
   ]
  },
  {
   "cell_type": "markdown",
   "metadata": {},
   "source": [
    "# Plotando diferença com ajuste de escala e ponderação pelo skill"
   ]
  },
  {
   "cell_type": "code",
   "execution_count": 4,
   "metadata": {},
   "outputs": [],
   "source": [
    "init = np.arange(1,13,1)\n",
    "leads = np.arange(1,4,1)\n",
    "\n",
    "dir_img.joinpath('rmse', 'com_skill', 'percent').mkdir(exist_ok=True)\n",
    "dir_img.joinpath('rmse', 'com_skill', 'abs').mkdir(exist_ok=True)\n",
    "\n",
    "for i in init:\n",
    "    rmse_bruto = xr.open_dataset(dir_dados.joinpath('cam3-rmse_prev_bruta',f'cam3_init{i}_rmse_bruta.nc')).__xarray_dataarray_variable__\n",
    "    rmse_ajustado = xr.open_dataset(dir_dados.joinpath('cam3-rmse_prev_ajustada', 'com_skill', f'cam3_init{i}_rmse_ajustado.nc')).__xarray_dataarray_variable__\n",
    "    percent = ((rmse_ajustado - rmse_bruto)/rmse_bruto)*100\n",
    "    diff = rmse_ajustado - rmse_bruto\n",
    "    \n",
    "    data = pendulum.now().set(year=1975, month=i, day=21)\n",
    "    \n",
    "    for lead in leads:\n",
    "        \n",
    "        lead_mes = (data + relativedelta(months=lead)).month\n",
    "\n",
    "        fig,ax = plt.subplots(1,3, figsize=(30,10), subplot_kw=dict(projection = ccrs.PlateCarree()))\n",
    "        \n",
    "        ax[0].set_title('(a)', fontsize=20)\n",
    "        ax[1].set_title('(b)', fontsize=20)\n",
    "        ax[2].set_title('(c)', fontsize=20)\n",
    "        plot.plot_mesh(ax[0], rmse_bruto.sel(lead=lead), vmin=0, vmax=200, cmap='hot_r')\n",
    "        plot.plot_mesh(ax[1], rmse_ajustado.sel(lead=lead, month=lead_mes), vmin=0, vmax=200, cmap='hot_r')\n",
    "        plot.plot_mesh(ax[2], percent.sel(lead=lead, month=lead_mes), vmin=-100, vmax=100, cmap='RdBu_r', cblabel='%')\n",
    "        fig.tight_layout()\n",
    "        \n",
    "        plt.close('all')\n",
    "        \n",
    "        fig.savefig(dir_img.joinpath('rmse', 'com_skill', 'percent', f'cam3-rmse-init{i}_lead{lead}.png'), bbox_inches='tight', facecolor='w', edgecolor='w')\n",
    "\n",
    "\n",
    "\n",
    "        fig,ax = plt.subplots(1,3, figsize=(30,10), subplot_kw=dict(projection = ccrs.PlateCarree()))\n",
    "        \n",
    "        ax[0].set_title('(a)', fontsize=20)\n",
    "        ax[1].set_title('(b)', fontsize=20)\n",
    "        ax[2].set_title('(c)', fontsize=20)\n",
    "        plot.plot_mesh(ax[0], rmse_bruto.sel(lead=lead), vmin=0, vmax=200, cmap='hot_r')\n",
    "        plot.plot_mesh(ax[1], rmse_ajustado.sel(lead=lead, month=lead_mes), vmin=0, vmax=200, cmap='hot_r')\n",
    "        plot.plot_mesh(ax[2], diff.sel(lead=lead, month=lead_mes), vmin=-100, vmax=100, cmap='RdBu_r')\n",
    "        fig.tight_layout()\n",
    "        \n",
    "        plt.close('all')\n",
    "        \n",
    "        fig.savefig(dir_img.joinpath('rmse', 'com_skill', 'abs', f'cam3-rmse-init{i}_lead{lead}.png'), bbox_inches='tight', facecolor='w', edgecolor='w')\n"
   ]
  },
  {
   "cell_type": "markdown",
   "metadata": {},
   "source": [
    "# Plotando diferença apenas com ajuste de escala"
   ]
  },
  {
   "cell_type": "code",
   "execution_count": 3,
   "metadata": {},
   "outputs": [],
   "source": [
    "init = np.arange(1,13,1)\n",
    "leads = np.arange(1,4,1)\n",
    "\n",
    "dir_img.joinpath('rmse', 'sem_skill', 'percent').mkdir(exist_ok=True)\n",
    "dir_img.joinpath('rmse', 'sem_skill', 'abs').mkdir(exist_ok=True)\n",
    "\n",
    "for i in init:\n",
    "    rmse_bruto = xr.open_dataset(dir_dados.joinpath('cam3-rmse_prev_bruta',f'cam3_init{i}_rmse_bruta.nc')).__xarray_dataarray_variable__\n",
    "    rmse_ajustado = xr.open_dataset(dir_dados.joinpath('cam3-rmse_prev_ajustada', 'sem_skill', f'cam3_init{i}_rmse_ajustado.nc')).__xarray_dataarray_variable__\n",
    "    percent = ((rmse_ajustado - rmse_bruto)/rmse_bruto)*100\n",
    "    diff = rmse_ajustado - rmse_bruto\n",
    "    \n",
    "    data = pendulum.now().set(year=1975, month=i, day=21)\n",
    "    \n",
    "    for lead in leads:\n",
    "        \n",
    "        lead_mes = (data + relativedelta(months=lead)).month\n",
    "\n",
    "        #plotando com percentual\n",
    "        fig,ax = plt.subplots(1,3, figsize=(30,10), subplot_kw=dict(projection = ccrs.PlateCarree()))\n",
    "        \n",
    "        ax[0].set_title('(a)', fontsize=20)\n",
    "        ax[1].set_title('(b)', fontsize=20)\n",
    "        ax[2].set_title('(c)', fontsize=20)\n",
    "        plot.plot_mesh(ax[0], rmse_bruto.sel(lead=lead), vmin=0, vmax=200, cmap='hot_r')\n",
    "        plot.plot_mesh(ax[1], rmse_ajustado.sel(lead=lead, month=lead_mes), vmin=0, vmax=200, cmap='hot_r')\n",
    "        plot.plot_mesh(ax[2], percent.sel(lead=lead, month=lead_mes), vmin=-100, vmax=100, cmap='RdBu_r', cblabel='%')\n",
    "        fig.tight_layout()\n",
    "        \n",
    "        plt.close('all')\n",
    "        \n",
    "        fig.savefig(dir_img.joinpath('rmse', 'sem_skill', 'percent', f'cam3-rmse-init{i}_lead{lead}.png'), bbox_inches='tight', facecolor='w', edgecolor='w')\n",
    "        \n",
    "\n",
    "        #plotando com a diferença        \n",
    "        fig,ax = plt.subplots(1,3, figsize=(30,10), subplot_kw=dict(projection = ccrs.PlateCarree()))\n",
    "        \n",
    "        ax[0].set_title('(a)', fontsize=20)\n",
    "        ax[1].set_title('(b)', fontsize=20)\n",
    "        ax[2].set_title('(c)', fontsize=20)\n",
    "        plot.plot_mesh(ax[0], rmse_bruto.sel(lead=lead), vmin=0, vmax=200, cmap='hot_r')\n",
    "        plot.plot_mesh(ax[1], rmse_ajustado.sel(lead=lead, month=lead_mes), vmin=0, vmax=200, cmap='hot_r')\n",
    "        plot.plot_mesh(ax[2], diff.sel(lead=lead, month=lead_mes), vmin=-100, vmax=100, cmap='RdBu_r')\n",
    "        fig.tight_layout()\n",
    "        \n",
    "        plt.close('all')\n",
    "        \n",
    "        fig.savefig(dir_img.joinpath('rmse', 'sem_skill', 'abs', f'cam3-rmse-init{i}_lead{lead}.png'), bbox_inches='tight', facecolor='w', edgecolor='w')"
   ]
  }
 ],
 "metadata": {
  "interpreter": {
   "hash": "c5ea08b82301901574ade269f2f41474e9ff34669df2c92daccd639cf6dc8704"
  },
  "kernelspec": {
   "display_name": "tcc",
   "language": "python",
   "name": "python3"
  },
  "language_info": {
   "codemirror_mode": {
    "name": "ipython",
    "version": 3
   },
   "file_extension": ".py",
   "mimetype": "text/x-python",
   "name": "python",
   "nbconvert_exporter": "python",
   "pygments_lexer": "ipython3",
   "version": "3.9.7"
  }
 },
 "nbformat": 4,
 "nbformat_minor": 4
}
