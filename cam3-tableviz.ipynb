{
 "cells": [
  {
   "cell_type": "code",
   "execution_count": 1,
   "metadata": {},
   "outputs": [],
   "source": [
    "import xarray as xr\n",
    "import pandas as pd\n",
    "import geopandas as gpd\n",
    "import pendulum    \n",
    "from dateutil.relativedelta import relativedelta\n",
    "import seaborn as sns\n",
    "import matplotlib.pyplot as plt\n",
    "import warnings\n",
    "warnings.filterwarnings(\"ignore\")\n",
    "\n",
    "from skill import config\n",
    "from skill import recorte"
   ]
  },
  {
   "cell_type": "code",
   "execution_count": 2,
   "metadata": {},
   "outputs": [],
   "source": [
    "dir_dados = config.dir_dados\n",
    "dir_shp = config.dir_shp\n",
    "dir_img = config.dir_img"
   ]
  },
  {
   "cell_type": "code",
   "execution_count": 3,
   "metadata": {},
   "outputs": [],
   "source": [
    "meses=['', 'Janeiro', 'Fevereiro', 'Março', 'Abril', 'Maio', 'Junho', 'Julho', 'Agosto', 'Setembro', 'Outubro', 'Novembro', 'Dezembro']"
   ]
  },
  {
   "cell_type": "markdown",
   "metadata": {},
   "source": [
    "Função para criar um dataframe vazio com os meses nas linhas e colunas."
   ]
  },
  {
   "cell_type": "code",
   "execution_count": 4,
   "metadata": {},
   "outputs": [],
   "source": [
    "def df_corr():\n",
    "        \n",
    "        df_completo = pd.DataFrame(\n",
    "                index=['Janeiro', 'Fevereiro', 'Março', 'Abril', 'Maio', 'Junho', 'Julho', 'Agosto', 'Setembro', 'Outubro', 'Novembro', 'Dezembro'],\n",
    "        columns=['Janeiro', 'Fevereiro', 'Março', 'Abril', 'Maio', 'Junho', 'Julho', 'Agosto', 'Setembro', 'Outubro', 'Novembro', 'Dezembro'],\n",
    "        )\n",
    "        \n",
    "        return df_completo"
   ]
  },
  {
   "cell_type": "code",
   "execution_count": 5,
   "metadata": {},
   "outputs": [],
   "source": [
    "dir_dados.joinpath('table_corr').mkdir(exist_ok=True)\n",
    "dir_img.joinpath('table_corr', 'cam3').mkdir(exist_ok=True)\n",
    "dir_img.joinpath('table_corr', 'cfsv2').mkdir(exist_ok=True)"
   ]
  },
  {
   "cell_type": "markdown",
   "metadata": {},
   "source": [
    "# Criando tabelas para dados do cam"
   ]
  },
  {
   "cell_type": "code",
   "execution_count": 12,
   "metadata": {},
   "outputs": [],
   "source": [
    "for shapefile in ['Sao_Francisco.shp', 'Grande.shp', 'Parana.shp', 'Xingu.shp', 'Iguacu.shp', 'Tocantins.shp', 'Paranapanema.shp']:\n",
    "\n",
    "    shp = gpd.read_file(dir_shp.joinpath(shapefile))\n",
    "    df_completo = df_corr()\n",
    "\n",
    "    for i in range(1,13):\n",
    "\n",
    "        date = pendulum.now().set(year=1975, month=i, day=21)\n",
    "\n",
    "        ds = xr.open_dataset(dir_dados.joinpath(f'cam3-anom_corr-init{i}.nc'))\n",
    "\n",
    "        ds_recortado = recorte.recortar(ds, shp)\n",
    "        ds_media = ds_recortado.mean(dim=['lat', 'lon'])\n",
    "\n",
    "        df = ds_media.to_dataframe().drop('spatial_ref', axis=1)\n",
    "\n",
    "        mes1 = (date + relativedelta(months=1)).month\n",
    "        mes2 = (date + relativedelta(months=2)).month\n",
    "        mes3 = (date + relativedelta(months=3)).month\n",
    "\n",
    "        index = [meses[mes1], meses[mes2], meses[mes3]]\n",
    "        df.index = index\n",
    "\n",
    "        df_completo[meses[i]] = df\n",
    "\n",
    "    df_completo.T.to_csv(dir_dados.joinpath('table_corr', f'cam3-{shp.Nome_Bacia.item()}.csv'))\n",
    "\n",
    "    fig, ax = plt.subplots(figsize=(20,10))\n",
    "\n",
    "    sns.heatmap(df_completo.T, vmin=-1, vmax=1, cmap='RdBu', annot=True, ax=ax)\n",
    "    ax.set_xlabel('Mês de Previsão', fontsize=14)\n",
    "    ax.set_ylabel('Mês da Condição Inicial', fontsize=14)\n",
    "    ax.set_title(shp.Nome_Bacia.item(), fontsize=16)\n",
    "\n",
    "    plt.close('all')\n",
    "\n",
    "    fig.savefig(dir_img.joinpath('table_corr', 'cam3', f'cam3-{shp.Nome_Bacia.item()}.png'), bbox_inches='tight', facecolor='w', edgecolor='w')"
   ]
  },
  {
   "cell_type": "markdown",
   "metadata": {},
   "source": [
    "# Criando tabelas para dados do CFSv2"
   ]
  },
  {
   "cell_type": "code",
   "execution_count": 6,
   "metadata": {},
   "outputs": [],
   "source": [
    "for shapefile in ['Sao_Francisco.shp', 'Grande.shp', 'Parana.shp', 'Xingu.shp', 'Iguacu.shp', 'Tocantins.shp', 'Paranapanema.shp']:\n",
    "    \n",
    "    shp = gpd.read_file(dir_shp.joinpath(shapefile))\n",
    "    df_completo = df_corr()\n",
    "\n",
    "    for i in range(1,13):\n",
    "        \n",
    "        date = pendulum.now().set(year=1975, month=i, day=21)\n",
    "\n",
    "        ds = xr.open_dataset(dir_dados.joinpath('outros_centros', f\"{date.format('MMM')}IC_cfsv2_precip_skill.nc\"))[['sk1', 'sk2', 'sk3']]\n",
    "\n",
    "        ds_recortado = recorte.recortar(ds, shp)\n",
    "        ds_media = ds_recortado.mean(dim=['lat', 'lon'])\n",
    "\n",
    "        df = ds_media.to_dataframe().drop('spatial_ref', axis=1).T\n",
    "\n",
    "        mes1 = (date + relativedelta(months=1)).month\n",
    "        mes2 = (date + relativedelta(months=2)).month\n",
    "        mes3 = (date + relativedelta(months=3)).month\n",
    "\n",
    "        index = [meses[mes1], meses[mes2], meses[mes3]]\n",
    "        df.index = index\n",
    "\n",
    "        df_completo[meses[i]] = df\n",
    "    \n",
    "    df_completo.T.to_csv(dir_dados.joinpath('table_corr', f'cfsv2-{shp.Nome_Bacia.item()}.csv'))\n",
    "\n",
    "    fig, ax = plt.subplots(figsize=(20,10))\n",
    "\n",
    "    sns.heatmap(df_completo.T, vmin=-1, vmax=1, cmap='RdBu', annot=True, ax=ax)\n",
    "    ax.set_xlabel('Mês de Previsão', fontsize=14)\n",
    "    ax.set_ylabel('Mês da Condição Inicial', fontsize=14)\n",
    "    ax.set_title(shp.Nome_Bacia.item(), fontsize=16)\n",
    "\n",
    "    plt.close('all')\n",
    "\n",
    "    fig.savefig(dir_img.joinpath('table_corr', 'cfsv2', f'cfsv2-{shp.Nome_Bacia.item()}.png'), bbox_inches='tight', facecolor='w', edgecolor='w')"
   ]
  }
 ],
 "metadata": {
  "interpreter": {
   "hash": "c5ea08b82301901574ade269f2f41474e9ff34669df2c92daccd639cf6dc8704"
  },
  "kernelspec": {
   "display_name": "Python 3.9.7 64-bit ('tcc': conda)",
   "language": "python",
   "name": "python3"
  },
  "language_info": {
   "codemirror_mode": {
    "name": "ipython",
    "version": 3
   },
   "file_extension": ".py",
   "mimetype": "text/x-python",
   "name": "python",
   "nbconvert_exporter": "python",
   "pygments_lexer": "ipython3",
   "version": "3.9.7"
  },
  "orig_nbformat": 4
 },
 "nbformat": 4,
 "nbformat_minor": 2
}
