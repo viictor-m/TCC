{
 "cells": [
  {
   "cell_type": "code",
   "execution_count": 1,
   "metadata": {},
   "outputs": [],
   "source": [
    "import xarray as xr\n",
    "import pandas as pd\n",
    "import geopandas as gpd\n",
    "import pendulum    \n",
    "from dateutil.relativedelta import relativedelta\n",
    "import seaborn as sns\n",
    "import matplotlib.pyplot as plt\n",
    "import warnings\n",
    "warnings.filterwarnings(\"ignore\")\n",
    "\n",
    "from skill import config\n",
    "from skill import recorte"
   ]
  },
  {
   "cell_type": "code",
   "execution_count": 2,
   "metadata": {},
   "outputs": [],
   "source": [
    "dir_dados = config.dir_dados\n",
    "dir_shp = config.dir_shp\n",
    "dir_img = config.dir_img"
   ]
  },
  {
   "cell_type": "code",
   "execution_count": 3,
   "metadata": {},
   "outputs": [],
   "source": [
    "meses=['', 'Janeiro', 'Fevereiro', 'Março', 'Abril', 'Maio', 'Junho', 'Julho', 'Agosto', 'Setembro', 'Outubro', 'Novembro', 'Dezembro']"
   ]
  },
  {
   "cell_type": "markdown",
   "metadata": {},
   "source": [
    "Função para criar um dataframe vazio com os meses nas linhas e colunas."
   ]
  },
  {
   "cell_type": "code",
   "execution_count": 4,
   "metadata": {},
   "outputs": [],
   "source": [
    "def df_corr():\n",
    "        \n",
    "        df_completo = pd.DataFrame(\n",
    "                index=['Janeiro', 'Fevereiro', 'Março', 'Abril', 'Maio', 'Junho', 'Julho', 'Agosto', 'Setembro', 'Outubro', 'Novembro', 'Dezembro'],\n",
    "        columns=['Janeiro', 'Fevereiro', 'Março', 'Abril', 'Maio', 'Junho', 'Julho', 'Agosto', 'Setembro', 'Outubro', 'Novembro', 'Dezembro'],\n",
    "        )\n",
    "        \n",
    "        return df_completo"
   ]
  },
  {
   "cell_type": "code",
   "execution_count": 5,
   "metadata": {},
   "outputs": [],
   "source": [
    "dir_dados.joinpath('table_rmse_diff').mkdir(exist_ok=True)\n",
    "dir_img.joinpath('table_rmse_diff').mkdir(exist_ok=True)"
   ]
  },
  {
   "cell_type": "code",
   "execution_count": 6,
   "metadata": {},
   "outputs": [],
   "source": [
    "for shapefile in ['Sao_Francisco.shp', 'Grande.shp', 'Parana.shp', 'Xingu.shp', 'Iguacu.shp', 'Tocantins.shp', 'Paranapanema.shp']:\n",
    "    \n",
    "    shp = gpd.read_file(dir_shp.joinpath(shapefile))\n",
    "    df_completo = df_corr()\n",
    "\n",
    "    for i in range(1,13):\n",
    "\n",
    "        date = pendulum.now().set(year=1975, month=i, day=21)\n",
    "\n",
    "        rmse_bruto = xr.open_dataset(dir_dados.joinpath('cam3-rmse_prev_bruta',f'cam3_init{i}_rmse_bruta.nc')).__xarray_dataarray_variable__\n",
    "        rmse_ajustado = xr.open_dataset(dir_dados.joinpath('cam3-rmse_prev_ajustada', 'com_skill', f'cam3_init{i}_rmse_ajustado.nc')).__xarray_dataarray_variable__\n",
    "        ds = rmse_ajustado - rmse_bruto\n",
    "\n",
    "        ds_recortado = recorte.recortar(ds, shp)\n",
    "        ds_media = ds_recortado.mean(dim=['lat', 'lon'])\n",
    "\n",
    "        df = ds_media.to_dataframe().drop(['spatial_ref', 'month'], axis=1)\n",
    "\n",
    "        mes1 = (date + relativedelta(months=1)).month\n",
    "        mes2 = (date + relativedelta(months=2)).month\n",
    "        mes3 = (date + relativedelta(months=3)).month\n",
    "\n",
    "        index = [meses[mes1], meses[mes2], meses[mes3]]\n",
    "        df.index = index\n",
    "\n",
    "        df_completo[meses[i]] = df\n",
    "\n",
    "    df_completo.T.to_csv(dir_dados.joinpath('table_rmse_diff', f'cam3-{shp.Nome_Bacia.item()}.csv'))\n",
    "\n",
    "    fig, ax = plt.subplots(figsize=(20,10))\n",
    "\n",
    "    sns.heatmap(df_completo.T, vmin=-100, vmax=100, cmap='RdBu_r', annot=True, ax=ax)\n",
    "    ax.set_xlabel('Mês de Previsão', fontsize=14)\n",
    "    ax.set_ylabel('Mês da Condição Inicial', fontsize=14)\n",
    "    ax.set_title(shp.Nome_Bacia.item(), fontsize=16)\n",
    "\n",
    "    plt.close('all')\n",
    "\n",
    "    fig.savefig(dir_img.joinpath('table_rmse_diff',  f'cam3-{shp.Nome_Bacia.item()}.png'), bbox_inches='tight', facecolor='w', edgecolor='w')"
   ]
  },
  {
   "cell_type": "code",
   "execution_count": 13,
   "metadata": {},
   "outputs": [],
   "source": [
    "rmse_ajustado = xr.open_dataset(dir_dados.joinpath('cam3-rmse_prev_ajustada', 'com_skill', f'cam3_init1_rmse_ajustado.nc')).__xarray_dataarray_variable__\n",
    "rmse_bruto = xr.open_dataset(dir_dados.joinpath('cam3-rmse_prev_bruta',f'cam3_init1_rmse_bruta.nc')).__xarray_dataarray_variable__"
   ]
  },
  {
   "cell_type": "code",
   "execution_count": 17,
   "metadata": {},
   "outputs": [],
   "source": [
    "diff = rmse_ajustado - rmse_bruto"
   ]
  },
  {
   "cell_type": "code",
   "execution_count": 28,
   "metadata": {},
   "outputs": [],
   "source": [
    "df = rmse_ajustado.mean(['lat','lon']).sel(month=[2,3,4]).to_dataframe().reset_index()"
   ]
  },
  {
   "cell_type": "code",
   "execution_count": 37,
   "metadata": {},
   "outputs": [
    {
     "data": {
      "text/html": [
       "<div>\n",
       "<style scoped>\n",
       "    .dataframe tbody tr th:only-of-type {\n",
       "        vertical-align: middle;\n",
       "    }\n",
       "\n",
       "    .dataframe tbody tr th {\n",
       "        vertical-align: top;\n",
       "    }\n",
       "\n",
       "    .dataframe thead th {\n",
       "        text-align: right;\n",
       "    }\n",
       "</style>\n",
       "<table border=\"1\" class=\"dataframe\">\n",
       "  <thead>\n",
       "    <tr style=\"text-align: right;\">\n",
       "      <th></th>\n",
       "      <th>lead</th>\n",
       "      <th>month</th>\n",
       "      <th>spatial_ref</th>\n",
       "      <th>__xarray_dataarray_variable__</th>\n",
       "    </tr>\n",
       "  </thead>\n",
       "  <tbody>\n",
       "    <tr>\n",
       "      <th>0</th>\n",
       "      <td>1</td>\n",
       "      <td>2</td>\n",
       "      <td>0</td>\n",
       "      <td>71.994481</td>\n",
       "    </tr>\n",
       "  </tbody>\n",
       "</table>\n",
       "</div>"
      ],
      "text/plain": [
       "   lead  month  spatial_ref  __xarray_dataarray_variable__\n",
       "0     1      2            0                      71.994481"
      ]
     },
     "execution_count": 37,
     "metadata": {},
     "output_type": "execute_result"
    }
   ],
   "source": [
    "df[(df['lead']==1)&(df['month'] == 2)]"
   ]
  }
 ],
 "metadata": {
  "interpreter": {
   "hash": "c5ea08b82301901574ade269f2f41474e9ff34669df2c92daccd639cf6dc8704"
  },
  "kernelspec": {
   "display_name": "Python 3.9.7 64-bit ('tcc': conda)",
   "language": "python",
   "name": "python3"
  },
  "language_info": {
   "codemirror_mode": {
    "name": "ipython",
    "version": 3
   },
   "file_extension": ".py",
   "mimetype": "text/x-python",
   "name": "python",
   "nbconvert_exporter": "python",
   "pygments_lexer": "ipython3",
   "version": "3.9.7"
  },
  "orig_nbformat": 4
 },
 "nbformat": 4,
 "nbformat_minor": 2
}
