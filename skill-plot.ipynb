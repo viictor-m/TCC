{
 "cells": [
  {
   "cell_type": "code",
   "execution_count": 1,
   "metadata": {},
   "outputs": [],
   "source": [
    "import xarray as xr\n",
    "import cartopy.crs as ccrs\n",
    "import matplotlib.pyplot as plt\n",
    "import numpy as np\n",
    "import pendulum\n",
    "from dateutil.relativedelta import relativedelta\n",
    "\n",
    "from skill import config\n",
    "from skill import recorte\n",
    "from skill import plot\n",
    "from skill import clima"
   ]
  },
  {
   "cell_type": "code",
   "execution_count": 2,
   "metadata": {},
   "outputs": [],
   "source": [
    "dir_dados = config.dir_dados\n",
    "dir_img = config.dir_img"
   ]
  },
  {
   "cell_type": "code",
   "execution_count": 3,
   "metadata": {},
   "outputs": [],
   "source": [
    "mes = ['', 'Janeiro', 'Fevereiro', 'Março', 'Abril', 'Maio', 'Junho', 'Julho', 'Agosto', 'Setembro', 'Outubro', 'Novembro','Dezembro']"
   ]
  },
  {
   "cell_type": "code",
   "execution_count": 11,
   "metadata": {},
   "outputs": [],
   "source": [
    "init = np.arange(1,13,1)\n",
    "leads = np.arange(1,4,1)\n",
    "\n",
    "for i in init:\n",
    "    ds = xr.open_dataset(f'{dir_dados}/cam3-anom_corr-init{i}.nc')\n",
    "    \n",
    "    data = pendulum.now().set(year=1975, month=i, day=21)\n",
    "    \n",
    "    for lead in leads:\n",
    "        \n",
    "        lead_mes = (data + relativedelta(months=lead)).month\n",
    "\n",
    "        fig,ax = plt.subplots(1,1, figsize=(10,10), subplot_kw=dict(projection = ccrs.PlateCarree()))\n",
    "        \n",
    "        plt.suptitle(\"Correlação CAM3.1 x GPCC \\n2012-2020\", x=0.45, y=0.9, fontsize=16)\n",
    "        ax.set_title(f'CI e CC: {mes[i]}', loc='left')\n",
    "        ax.set_title(f'Válido para {mes[lead_mes]}', loc='right')\n",
    "        ax.text(-41.5,-31.7,'Lammoc - UFF', fontstyle='italic')\n",
    "\n",
    "        plot.plot_mesh(ax, ds.__xarray_dataarray_variable__.sel(lead=lead))\n",
    "        \n",
    "        plt.close('all')\n",
    "        \n",
    "        fig.savefig(f'{dir_img}/cam3-corr_anom-init{i}_lead{lead}.png', bbox_inches='tight', facecolor='w', edgecolor='w')"
   ]
  }
 ],
 "metadata": {
  "kernelspec": {
   "display_name": "tcc",
   "language": "python",
   "name": "tcc"
  },
  "language_info": {
   "codemirror_mode": {
    "name": "ipython",
    "version": 3
   },
   "file_extension": ".py",
   "mimetype": "text/x-python",
   "name": "python",
   "nbconvert_exporter": "python",
   "pygments_lexer": "ipython3",
   "version": "3.9.7"
  }
 },
 "nbformat": 4,
 "nbformat_minor": 4
}
