{
 "cells": [
  {
   "cell_type": "code",
   "execution_count": 1,
   "metadata": {},
   "outputs": [],
   "source": [
    "import xarray as xr\n",
    "import geopandas as gpd\n",
    "import numpy as np\n",
    "import pendulum\n",
    "from dateutil.relativedelta import relativedelta\n",
    "import warnings\n",
    "warnings.filterwarnings(\"ignore\") #ignora runtime warning por causa de nan na hora da correlacao\n",
    "\n",
    "from skill import recorte\n",
    "from skill import clima\n",
    "from skill import stats\n",
    "from skill import config"
   ]
  },
  {
   "cell_type": "markdown",
   "metadata": {},
   "source": [
    "# Configurando diretorios"
   ]
  },
  {
   "cell_type": "code",
   "execution_count": 2,
   "metadata": {},
   "outputs": [],
   "source": [
    "dir_dados = config.dir_dados\n",
    "dir_img = config.dir_img\n",
    "dir_shp = config.dir_shp"
   ]
  },
  {
   "cell_type": "markdown",
   "metadata": {},
   "source": [
    "# Abrindo arquivos"
   ]
  },
  {
   "cell_type": "code",
   "execution_count": 3,
   "metadata": {},
   "outputs": [],
   "source": [
    "gpcc = xr.open_dataset(f'{dir_dados}/precip.comb.v2020to2019-v2020monitorafter.total.nc')\n",
    "br_madeira = gpd.read_file(f'{dir_shp}/brasil_madeira.shp')"
   ]
  },
  {
   "cell_type": "markdown",
   "metadata": {},
   "source": [
    "## Abrindo arquivo de previsão p/ utilizar lat e lon p/ interpolacao da climatologia e do observado"
   ]
  },
  {
   "cell_type": "code",
   "execution_count": 4,
   "metadata": {},
   "outputs": [],
   "source": [
    "aux = xr.open_dataset(f'{dir_dados}/cam3_init1.nc')\n",
    "\n",
    "lat = aux.lat.values\n",
    "lon = aux.lon.values"
   ]
  },
  {
   "cell_type": "markdown",
   "metadata": {},
   "source": [
    "# Trabalhando com observado"
   ]
  },
  {
   "cell_type": "markdown",
   "metadata": {},
   "source": [
    "## Interpola para a grade do cam"
   ]
  },
  {
   "cell_type": "code",
   "execution_count": 5,
   "metadata": {},
   "outputs": [],
   "source": [
    "obs_interp = recorte.regridder(gpcc, lat, lon)\n",
    "obs_br = recorte.recortar(obs_interp, br_madeira)"
   ]
  },
  {
   "cell_type": "markdown",
   "metadata": {},
   "source": [
    "# Calculando RMSE para previsão bruta do CAM"
   ]
  },
  {
   "cell_type": "code",
   "execution_count": 6,
   "metadata": {
    "tags": []
   },
   "outputs": [],
   "source": [
    "init = np.arange(1,13,1)\n",
    "leads = np.arange(1,4,1)\n",
    "\n",
    "dir_dados.joinpath('cam3-rmse_prev_bruta').mkdir(exist_ok=True)\n",
    "\n",
    "for i in init:\n",
    "    cam = xr.open_dataset(f'{dir_dados}/cam3_init{i}.nc')\n",
    "    cam['chuva'] = (cam.PRECC + cam.PRECSH + cam.PRECL)*3600*24*30*1000\n",
    "\n",
    "    cam_br = recorte.recortar(cam.chuva, br_madeira)\n",
    "    \n",
    "    data = pendulum.now().set(year=1975, month=i, day=21)\n",
    "    result = list()\n",
    "    for lead in leads:\n",
    "        \n",
    "        mes = (data + relativedelta(months=lead)).month\n",
    "        \n",
    "        ds_cam = cam_br.sel(time=cam_br.time.dt.month == mes, lead=lead)\n",
    "        ds_obs = obs_br.sel(time=ds_cam.time.values).precip\n",
    "        \n",
    "        rmse = stats.rmse(ds_cam, ds_obs)\n",
    "        result.append(rmse)\n",
    "        \n",
    "    ds_rmse_br = xr.concat(result, dim='lead')\n",
    "    ds_rmse_br.to_netcdf(dir_dados.joinpath('cam3-rmse_prev_bruta',f'cam3_init{i}_rmse_bruta.nc'))"
   ]
  },
  {
   "cell_type": "markdown",
   "metadata": {},
   "source": [
    "# Calculando RMSE para previsão com ajuste e ponderação pelo skill"
   ]
  },
  {
   "cell_type": "code",
   "execution_count": 8,
   "metadata": {},
   "outputs": [],
   "source": [
    "dir_dados.joinpath('cam3-rmse_prev_ajustada').mkdir(exist_ok=True)"
   ]
  },
  {
   "cell_type": "code",
   "execution_count": 9,
   "metadata": {},
   "outputs": [],
   "source": [
    "init = np.arange(1,13,1)\n",
    "leads = np.arange(1,4,1)\n",
    "\n",
    "dir_dados.joinpath('cam3-rmse_prev_ajustada', 'com_skill').mkdir(exist_ok=True)\n",
    "\n",
    "for i in init:\n",
    "    cam_ajustado = xr.open_dataset(dir_dados.joinpath('cam3_ajuste','com_skill', f'cam3_ajuste_{i}.nc')).__xarray_dataarray_variable__\n",
    "    \n",
    "    data = pendulum.now().set(year=1975, month=i, day=21)\n",
    "    result = list()\n",
    "    for lead in leads:\n",
    "        \n",
    "        mes = (data + relativedelta(months=lead)).month\n",
    "        \n",
    "        ds_cam_ajustado = cam_ajustado.sel(time=cam_ajustado.time.dt.month == mes, lead=lead)\n",
    "        ds_obs = obs_br.sel(time=ds_cam_ajustado.time.values).precip\n",
    "        \n",
    "        rmse = stats.rmse(ds_cam_ajustado, ds_obs)\n",
    "        result.append(rmse)\n",
    "        \n",
    "    ds_rmse_br = xr.concat(result, dim='lead')\n",
    "    ds_rmse_br.to_netcdf(dir_dados.joinpath('cam3-rmse_prev_ajustada','com_skill',f'cam3_init{i}_rmse_ajustado.nc'))"
   ]
  },
  {
   "cell_type": "markdown",
   "metadata": {},
   "source": [
    "# Calculando RMSE para previsão apenas com ajuste"
   ]
  },
  {
   "cell_type": "code",
   "execution_count": 10,
   "metadata": {},
   "outputs": [],
   "source": [
    "init = np.arange(1,13,1)\n",
    "leads = np.arange(1,4,1)\n",
    "\n",
    "dir_dados.joinpath('cam3-rmse_prev_ajustada', 'sem_skill').mkdir(exist_ok=True)\n",
    "\n",
    "for i in init:\n",
    "    cam_ajustado = xr.open_dataset(dir_dados.joinpath('cam3_ajuste','sem_skill', f'cam3_ajuste_{i}.nc')).__xarray_dataarray_variable__\n",
    "    \n",
    "    data = pendulum.now().set(year=1975, month=i, day=21)\n",
    "    result = list()\n",
    "    for lead in leads:\n",
    "        \n",
    "        mes = (data + relativedelta(months=lead)).month\n",
    "        \n",
    "        ds_cam_ajustado = cam_ajustado.sel(time=cam_ajustado.time.dt.month == mes, lead=lead)\n",
    "        ds_obs = obs_br.sel(time=ds_cam_ajustado.time.values).precip\n",
    "        \n",
    "        rmse = stats.rmse(ds_cam_ajustado, ds_obs)\n",
    "        result.append(rmse)\n",
    "        \n",
    "    ds_rmse_br = xr.concat(result, dim='lead')\n",
    "    ds_rmse_br.to_netcdf(dir_dados.joinpath('cam3-rmse_prev_ajustada','sem_skill',f'cam3_init{i}_rmse_ajustado.nc'))"
   ]
  }
 ],
 "metadata": {
  "interpreter": {
   "hash": "c5ea08b82301901574ade269f2f41474e9ff34669df2c92daccd639cf6dc8704"
  },
  "kernelspec": {
   "display_name": "tcc",
   "language": "python",
   "name": "python3"
  },
  "language_info": {
   "codemirror_mode": {
    "name": "ipython",
    "version": 3
   },
   "file_extension": ".py",
   "mimetype": "text/x-python",
   "name": "python",
   "nbconvert_exporter": "python",
   "pygments_lexer": "ipython3",
   "version": "3.9.7"
  },
  "toc-autonumbering": true,
  "toc-showcode": false,
  "toc-showmarkdowntxt": true
 },
 "nbformat": 4,
 "nbformat_minor": 4
}
