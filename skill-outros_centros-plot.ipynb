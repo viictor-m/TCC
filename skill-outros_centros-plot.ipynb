{
 "cells": [
  {
   "cell_type": "code",
   "execution_count": 1,
   "metadata": {},
   "outputs": [],
   "source": [
    "import xarray as xr\n",
    "import cartopy.crs as ccrs\n",
    "import matplotlib.pyplot as plt\n",
    "import numpy as np\n",
    "import pendulum\n",
    "import geopandas as gpd\n",
    "from dateutil.relativedelta import relativedelta\n",
    "import warnings\n",
    "warnings.filterwarnings(\"ignore\")\n",
    "\n",
    "from skill import config\n",
    "from skill import recorte\n",
    "from skill import plot\n",
    "from skill import outros"
   ]
  },
  {
   "cell_type": "code",
   "execution_count": 2,
   "metadata": {},
   "outputs": [],
   "source": [
    "dir_dados = config.dir_dados\n",
    "dir_img = config.dir_img\n",
    "dir_shp = config.dir_shp"
   ]
  },
  {
   "cell_type": "code",
   "execution_count": 3,
   "metadata": {},
   "outputs": [],
   "source": [
    "br_madeira = gpd.read_file(f'{dir_shp}/brasil_madeira.shp')"
   ]
  },
  {
   "cell_type": "code",
   "execution_count": 4,
   "metadata": {},
   "outputs": [],
   "source": [
    "meses = ['', 'Janeiro', 'Fevereiro', 'Março', 'Abril', 'Maio', 'Junho', 'Julho', 'Agosto', 'Setembro', 'Outubro', 'Novembro','Dezembro']"
   ]
  },
  {
   "cell_type": "code",
   "execution_count": 6,
   "metadata": {},
   "outputs": [],
   "source": [
    "for centro in ['cfsv2', 'cmc1', 'cmc2', 'nasa', 'gfdl','gfdl_flor', 'ncar_ccsm4', 'nmme']:\n",
    "\n",
    "    dir_img.joinpath(centro).mkdir(exist_ok=True)\n",
    "\n",
    "    for mes in np.arange(1,13,1):\n",
    "\n",
    "        date = pendulum.now().set(year=1975, month=mes, day=21)\n",
    "\n",
    "        ds = outros.download(centro, mes)\n",
    "        ds_recortado = recorte.recortar(ds, br_madeira)\n",
    "\n",
    "        for lead in np.arange(1,4,1):\n",
    "\n",
    "            var = f'sk{lead}'\n",
    "            lead_mes = (date + relativedelta(months=lead)).month\n",
    "\n",
    "            fig,ax = plt.subplots(1,1, figsize=(10,10), subplot_kw=dict(projection = ccrs.PlateCarree()))\n",
    "\n",
    "            plt.suptitle(f\"Skill {centro}\", x=0.45, y=0.875, fontsize=16)\n",
    "            ax.set_title(f'CI e CC: {meses[mes]}', loc='left')\n",
    "            ax.set_title(f'Válido para {meses[lead_mes]}', loc='right')\n",
    "            ax.text(-41.5,-33,'Lammoc - UFF', fontstyle='italic')\n",
    "\n",
    "            plot.plot_mesh(ax, ds_recortado[var].isel(time=0), vmin=-1, vmax=1)\n",
    "\n",
    "            plt.close('all')\n",
    "\n",
    "            fig.savefig(dir_img.joinpath(centro, f'skill_{centro}-init{mes}_lead{lead}.png'), bbox_inches='tight', facecolor='w', edgecolor='w')"
   ]
  }
 ],
 "metadata": {
  "interpreter": {
   "hash": "c5ea08b82301901574ade269f2f41474e9ff34669df2c92daccd639cf6dc8704"
  },
  "kernelspec": {
   "display_name": "tcc",
   "language": "python",
   "name": "python3"
  },
  "language_info": {
   "codemirror_mode": {
    "name": "ipython",
    "version": 3
   },
   "file_extension": ".py",
   "mimetype": "text/x-python",
   "name": "python",
   "nbconvert_exporter": "python",
   "pygments_lexer": "ipython3",
   "version": "3.9.7"
  }
 },
 "nbformat": 4,
 "nbformat_minor": 4
}
