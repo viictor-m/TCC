{
 "cells": [
  {
   "cell_type": "code",
   "execution_count": 1,
   "metadata": {},
   "outputs": [],
   "source": [
    "import xarray as xr\n",
    "import geopandas as gpd\n",
    "import dask\n",
    "import numpy as np\n",
    "import pendulum\n",
    "from dateutil.relativedelta import relativedelta\n",
    "import warnings\n",
    "warnings.filterwarnings(\"ignore\") #ignora runtime warning por causa de nan na hora da correlacao\n",
    "\n",
    "from skill import recorte\n",
    "from skill import clima\n",
    "from skill import plot\n",
    "from skill import config"
   ]
  },
  {
   "cell_type": "markdown",
   "metadata": {},
   "source": [
    "# Configurando diretorios"
   ]
  },
  {
   "cell_type": "code",
   "execution_count": 2,
   "metadata": {},
   "outputs": [],
   "source": [
    "dir_dados = config.dir_dados\n",
    "dir_img = config.dir_img\n",
    "dir_shp = config.dir_shp"
   ]
  },
  {
   "cell_type": "markdown",
   "metadata": {},
   "source": [
    "# Abrindo arquivos"
   ]
  },
  {
   "cell_type": "code",
   "execution_count": 3,
   "metadata": {},
   "outputs": [],
   "source": [
    "gpcc = xr.open_dataset(f'{dir_dados}/precip.comb.v2020to2019-v2020monitorafter.total.nc')\n",
    "br_madeira = gpd.read_file(f'{dir_shp}/brasil_madeira.shp')\n",
    "\n",
    "clima_cam = xr.open_dataset(f'{dir_dados}/cam3_clima.nc')\n",
    "clima_cam['chuva'] = (clima_cam.PRECC + clima_cam.PRECSH + clima_cam.PRECL)*3600*24*30*1000 #cria chuva total com as variaveis do dataset"
   ]
  },
  {
   "cell_type": "markdown",
   "metadata": {},
   "source": [
    "## Abrindo arquivo de previsão p/ utilizar lat e lon p/ interpolacao da climatologia e do observado"
   ]
  },
  {
   "cell_type": "markdown",
   "metadata": {},
   "source": [
    "A climatologia tem mesma resolução que as previsões do CAM. Entretanto, os pontos de grade não são os mesmos. Isso acaba causando problemas na hora de calcular a anomalia, já que a indexação é feita pelo conjunto lat lon."
   ]
  },
  {
   "cell_type": "code",
   "execution_count": 4,
   "metadata": {},
   "outputs": [],
   "source": [
    "aux = xr.open_dataset(f'{dir_dados}/cam3_init1.nc')\n",
    "\n",
    "lat = aux.lat.values\n",
    "lon = aux.lon.values"
   ]
  },
  {
   "cell_type": "code",
   "execution_count": 5,
   "metadata": {},
   "outputs": [],
   "source": [
    "clima_cam = recorte.regridder(clima_cam, lat, lon)"
   ]
  },
  {
   "cell_type": "markdown",
   "metadata": {},
   "source": [
    "# Trabalhando com observado"
   ]
  },
  {
   "cell_type": "markdown",
   "metadata": {},
   "source": [
    "## Calcula anomalia"
   ]
  },
  {
   "cell_type": "markdown",
   "metadata": {},
   "source": [
    "Climatologia escolhida para ter mesma data da climatologia do CAM de acordo com Vasconcellos (2017)."
   ]
  },
  {
   "cell_type": "code",
   "execution_count": 6,
   "metadata": {
    "tags": []
   },
   "outputs": [],
   "source": [
    "clima_obs = clima.climatologia(gpcc, '1979-01-01', '1999-12-01')\n",
    "obs = gpcc.sel(time=slice('2012-01-01', '2021-09-01'))\n",
    "\n",
    "anom_obs = clima.anomalia(obs, clima_obs)"
   ]
  },
  {
   "cell_type": "markdown",
   "metadata": {},
   "source": [
    "## Interpola para a grade do cam"
   ]
  },
  {
   "cell_type": "code",
   "execution_count": 7,
   "metadata": {},
   "outputs": [],
   "source": [
    "anom_obs_interp = recorte.regridder(anom_obs, lat, lon)\n",
    "anom_obs_br = recorte.recortar(anom_obs_interp, br_madeira)"
   ]
  },
  {
   "cell_type": "markdown",
   "metadata": {},
   "source": [
    "# Fazendo correlação"
   ]
  },
  {
   "cell_type": "code",
   "execution_count": 8,
   "metadata": {
    "tags": []
   },
   "outputs": [],
   "source": [
    "init = np.arange(1,13,1)\n",
    "leads = np.arange(1,4,1)\n",
    "\n",
    "for i in init:\n",
    "    cam = xr.open_dataset(f'{dir_dados}/cam3_init{i}.nc')\n",
    "    cam['chuva'] = (cam.PRECC + cam.PRECSH + cam.PRECL)*3600*24*30*1000\n",
    "\n",
    "\n",
    "    cam_anom = clima.anomalia(cam.chuva, clima_cam.chuva.groupby('time.month').mean())\n",
    "    cam_anom_br = recorte.recortar(cam_anom, br_madeira)\n",
    "  \n",
    "    \n",
    "    data = pendulum.now().set(year=1975, month=i, day=21)\n",
    "    result = list()\n",
    "    for lead in leads:\n",
    "        \n",
    "        mes = (data + relativedelta(months=lead)).month\n",
    "        \n",
    "        ds_camcorr = cam_anom_br.sel(time=cam_anom_br.time.dt.month == mes, lead=lead)\n",
    "        ds_obscorr = anom_obs_br.sel(time=ds_camcorr.time.values).precip\n",
    "        \n",
    "        corr = clima.correlacao(ds_camcorr, ds_obscorr)\n",
    "        result.append(corr)\n",
    "        \n",
    "    ds_corr_br = xr.concat(result, dim='lead')\n",
    "    ds_corr_br.to_netcdf(f'{dir_dados}/cam3-anom_corr-init{i}.nc')"
   ]
  }
 ],
 "metadata": {
  "kernelspec": {
   "display_name": "tcc",
   "language": "python",
   "name": "tcc"
  },
  "language_info": {
   "codemirror_mode": {
    "name": "ipython",
    "version": 3
   },
   "file_extension": ".py",
   "mimetype": "text/x-python",
   "name": "python",
   "nbconvert_exporter": "python",
   "pygments_lexer": "ipython3",
   "version": "3.9.7"
  },
  "toc-autonumbering": true,
  "toc-showcode": false,
  "toc-showmarkdowntxt": true
 },
 "nbformat": 4,
 "nbformat_minor": 4
}
